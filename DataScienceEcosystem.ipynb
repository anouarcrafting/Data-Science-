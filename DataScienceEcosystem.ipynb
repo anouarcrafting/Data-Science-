{
 "cells": [
  {
   "cell_type": "markdown",
   "id": "2d841102",
   "metadata": {},
   "source": [
    "# Data Science Tools and Ecosystem "
   ]
  },
  {
   "cell_type": "markdown",
   "id": "816bc178",
   "metadata": {},
   "source": [
    "In this notebook, we will introduce you to Data Science Tools and Ecosystem."
   ]
  },
  {
   "cell_type": "markdown",
   "id": "e2bf46b6",
   "metadata": {},
   "source": [
    "**Objectives:**"
   ]
  },
  {
   "cell_type": "markdown",
   "id": "45a15c30",
   "metadata": {},
   "source": [
    "List of popular languages in Data Science\n",
    "\n",
    "List of the commonly used libraries in Data Science\n",
    "\n",
    "Arithmetic expressions"
   ]
  },
  {
   "cell_type": "markdown",
   "id": "1156f79b",
   "metadata": {},
   "source": [
    "#### Some of the popular languages that Data Scientists use are:\n",
    "     1-Python\n",
    "     2-R\n",
    "     3-Julia\n",
    "     4-C++"
   ]
  },
  {
   "cell_type": "markdown",
   "id": "429bce51",
   "metadata": {},
   "source": [
    "#### Some of the commonly used libraries used by Data Scientists include:\n",
    "     1-Pandas\n",
    "     2-Matplotlib\n",
    "     3-Seaborn\n",
    "     4-Numpy"
   ]
  },
  {
   "cell_type": "markdown",
   "id": "d898c544",
   "metadata": {},
   "source": [
    " | Data Science Tools|\n",
    " |-------------------|\n",
    " |Jupyter Notebook   |\n",
    " |Rstudio            |\n",
    " |Google Colab       |\n",
    " |VisualStudio Code  |\n",
    " |Apache Spark       |\n",
    "     "
   ]
  },
  {
   "cell_type": "markdown",
   "id": "3e6b4f18",
   "metadata": {},
   "source": []
  },
  {
   "cell_type": "markdown",
   "id": "57dc7a3b",
   "metadata": {},
   "source": [
    "### Below are few examples of evaluating arithmetic expressions in Python"
   ]
  },
  {
   "cell_type": "code",
   "execution_count": 1,
   "id": "3c793051",
   "metadata": {},
   "outputs": [
    {
     "data": {
      "text/plain": [
       "17"
      ]
     },
     "execution_count": 1,
     "metadata": {},
     "output_type": "execute_result"
    }
   ],
   "source": [
    "#This is a single arithmetic expression to multiply then add integers\n",
    "(3*4)+5"
   ]
  },
  {
   "cell_type": "code",
   "execution_count": 5,
   "id": "533f292e",
   "metadata": {},
   "outputs": [
    {
     "data": {
      "text/plain": [
       "3.3333333333333335"
      ]
     },
     "execution_count": 5,
     "metadata": {},
     "output_type": "execute_result"
    }
   ],
   "source": [
    "#This will convert 200 minutes to hours by dividing by 60\n",
    "200/60"
   ]
  },
  {
   "cell_type": "markdown",
   "id": "ab883d19",
   "metadata": {},
   "source": [
    "## Author"
   ]
  },
  {
   "cell_type": "markdown",
   "id": "1eb4145c",
   "metadata": {},
   "source": [
    "Anouar Tayi"
   ]
  },
  {
   "cell_type": "code",
   "execution_count": null,
   "id": "46afd702",
   "metadata": {},
   "outputs": [],
   "source": []
  }
 ],
 "metadata": {
  "kernelspec": {
   "display_name": "Python 3 (ipykernel)",
   "language": "python",
   "name": "python3"
  },
  "language_info": {
   "codemirror_mode": {
    "name": "ipython",
    "version": 3
   },
   "file_extension": ".py",
   "mimetype": "text/x-python",
   "name": "python",
   "nbconvert_exporter": "python",
   "pygments_lexer": "ipython3",
   "version": "3.9.13"
  }
 },
 "nbformat": 4,
 "nbformat_minor": 5
}
